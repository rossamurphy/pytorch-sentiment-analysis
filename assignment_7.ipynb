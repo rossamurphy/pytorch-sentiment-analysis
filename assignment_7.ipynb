{
  "nbformat": 4,
  "nbformat_minor": 0,
  "metadata": {
    "kernelspec": {
      "display_name": "Python 3",
      "language": "python",
      "name": "python3"
    },
    "language_info": {
      "codemirror_mode": {
        "name": "ipython",
        "version": 3
      },
      "file_extension": ".py",
      "mimetype": "text/x-python",
      "name": "python",
      "nbconvert_exporter": "python",
      "pygments_lexer": "ipython3",
      "version": "3.7.6"
    },
    "colab": {
      "name": "assignment_7.ipynb",
      "provenance": [],
      "include_colab_link": true
    },
    "accelerator": "TPU"
  },
  "cells": [
    {
      "cell_type": "markdown",
      "metadata": {
        "id": "view-in-github",
        "colab_type": "text"
      },
      "source": [
        "<a href=\"https://colab.research.google.com/github/rossamurphy/pytorch-sentiment-analysis/blob/master/assignment_7.ipynb\" target=\"_parent\"><img src=\"https://colab.research.google.com/assets/colab-badge.svg\" alt=\"Open In Colab\"/></a>"
      ]
    },
    {
      "cell_type": "markdown",
      "metadata": {
        "id": "9eNiQhudmbm3"
      },
      "source": [
        "# Assignment 7: Unsupervised learning (PCA, K-Means)\n",
        "\n",
        "## Introduction\n",
        "\n",
        "In this assignment, you will need to compute the Principal Component Analysis and K-Means algorithms and use them on a dataset. The dataset is the set of images from MNIST database corresponding to the handwritten digit $7$. Each image is $28px\\times 28px$. The set is divided in a training set and a testing set of respective size $3133$ and $3132$.\n",
        "\n",
        "As usual, the structure of the code is given to you and you need to fill the parts corresponding to the questions below.\n",
        "\n",
        "\n",
        "## Questions\n",
        "\n",
        "### PCA <a href='#pca'>Starts here</a>\n",
        "<b><a href='#q1'>Question 1 (25%)</a></b>  Complete the functions `pca(.)` and `pca_project(.)`. For information, the function `np.linalg.eigh` compute the eigenvalues and eigenvectors of a symmetric matrix. It returns two arrays, the first one contains the eigenvalues in ascending order and the second one the corresponding eigenvector.<br/>\n",
        "<b><a href='#q2'>Question 2 (15%)</a></b> Use the function `pca(.)` to learn a decomposition on the <b>training set</b>. Then compute the reconstruction error $E$ on the <b>testing set</b>, for a number of components varying from 1 to 100, as defined by: \n",
        "$$\n",
        "E(D) = \\frac{1}{N}\\sum_{n=1}^N \\|I_n - (\\mathbf{\\mu}+\\sum_{k=1}^D \\omega_k^n\\mathbf{u}_k) \\|_2,\n",
        "$$\n",
        "with $I_n$ denoting the $n$-th image of the testing set, $\\mathbf{\\mu}$ is the mean digit learnt from the training set, $\\mathbf{u}_k$ is the eigenvector with the $k$-th largest eigenvalue, and $\\omega_k^n$ is the expansion coefficient of the $n$-th image on the $k$-th eigenvector. Finally, $\\|.\\|_2$ denotes the $L_2$ norm. Numpy has the method `np.linalg.norm(.)` that computes norms (check out the documentation for more infos).\n",
        "<br/>\n",
        "<b><a href='#q3'>Question 3 (5%)</a></b> Plot the evolution of the error $E$ for $D = 1,\\ldots,100$.\n",
        "\n",
        "### K-means <a href='#kmeans'>Starts here</a>\n",
        "<b><a href='#q4'>Question 4 (10%)</a></b> Complete the function `distortion(.)` which computes the distortion cost $F$ for a given clustering of the data:\n",
        "$$\n",
        "F(m,c) = \\frac{1}{N}\\sum_{i=1}^N \\|x^i - c^{m(i)}\\|_2,\n",
        "$$\n",
        "where $N$ corresponds to the total number of images in the set and $m(i)$ denotes which cluster is assigned to the image $x^i$.<br/>\n",
        "<b><a href='#q5'>Question 5 (15%)</a></b> Complete the functions `kmeans(.)` and `assign_cluster(.)`, make sure that it computes the distortion after each update. Then use the function on your training set, the number of cluster $k = 2$. Check that the distortion decreases as the algorithm progresses.<br/>\n",
        "<b><a href='#q6'>Question 6 (15%)</a></b> In order to mitigate the local minima problem of K-Means, repeat the algorithm $10$ times, and keep the solution that yields the smallest distortion at the end. Show the resulting digit clusters (centroids of your clusters) using the `plot_kmeans(.)` function given.<br/>\n",
        "<b><a href='#q7'>Question 7 (10%)</a></b> Repeat the procedure of Question 6 for values of $k = 3,4,5,10,50,100$ (Allow for ~10min). Plot the evolution of the distortion cost of the training and testing data. Remember to use the functions `select_clustering(.)`, `assign_cluster(.)`, and `distortion(.)` defined earlier.<br/>\n",
        "\n",
        "### Comparison <a href='#comparison'>Starts here</a>\n",
        "<b><a href='#q8'>Question 8 (5%)</a></b> Compare the results from PCA to the results of K-means on the <b>test set</b> by plotting on the same graph the reconstruction error $E(D)$ for $D = 3,4,5,10,50,100$ and the distortion cost you just computed (remark that the two measures are simply $L_2$ norms thus the comparison is valid). To be clear, the first one measure the error in the reconstructed image from the projection on the components of PCA, the second measure the error between each image and the centroid of the cluster it is assigned to. Both correpond to the error made when approximating the original image to either its projection or its cluster's centroid.\n",
        "\n"
      ]
    },
    {
      "cell_type": "markdown",
      "metadata": {
        "id": "RdXu9djhmbm3"
      },
      "source": [
        "### Importing necessary packages"
      ]
    },
    {
      "cell_type": "code",
      "metadata": {
        "colab": {
          "base_uri": "https://localhost:8080/"
        },
        "id": "xjeh95CSmbm3",
        "outputId": "12f297a3-5e21-4543-c593-5e9d6ca78cb6"
      },
      "source": [
        "import numpy as np\n",
        "import matplotlib.pyplot as plt\n",
        "from mnist import read, show\n",
        "%matplotlib inline"
      ],
      "execution_count": 4,
      "outputs": [
        {
          "output_type": "stream",
          "text": [
            "cp: cannot open 'drive/MyDrive/5 a side organisation.gform' for reading: Operation not supported\n",
            "^C\n"
          ],
          "name": "stdout"
        }
      ]
    },
    {
      "cell_type": "code",
      "metadata": {
        "colab": {
          "base_uri": "https://localhost:8080/"
        },
        "id": "Ppa4jdyhtO3w",
        "outputId": "72a609af-aeea-4927-8ef7-2b49679b21c6"
      },
      "source": [
        "! pip install pytorch"
      ],
      "execution_count": 5,
      "outputs": [
        {
          "output_type": "stream",
          "text": [
            "Collecting pytorch\n",
            "  Downloading https://files.pythonhosted.org/packages/ee/67/f403d4ae6e9cd74b546ee88cccdb29b8415a9c1b3d80aebeb20c9ea91d96/pytorch-1.0.2.tar.gz\n",
            "Building wheels for collected packages: pytorch\n",
            "  Building wheel for pytorch (setup.py) ... \u001b[?25lerror\n",
            "\u001b[31m  ERROR: Failed building wheel for pytorch\u001b[0m\n",
            "\u001b[?25h  Running setup.py clean for pytorch\n",
            "Failed to build pytorch\n",
            "Installing collected packages: pytorch\n",
            "    Running setup.py install for pytorch ... \u001b[?25l\u001b[?25herror\n",
            "\u001b[31mERROR: Command errored out with exit status 1: /usr/bin/python3 -u -c 'import sys, setuptools, tokenize; sys.argv[0] = '\"'\"'/tmp/pip-install-q7ce6nm_/pytorch/setup.py'\"'\"'; __file__='\"'\"'/tmp/pip-install-q7ce6nm_/pytorch/setup.py'\"'\"';f=getattr(tokenize, '\"'\"'open'\"'\"', open)(__file__);code=f.read().replace('\"'\"'\\r\\n'\"'\"', '\"'\"'\\n'\"'\"');f.close();exec(compile(code, __file__, '\"'\"'exec'\"'\"'))' install --record /tmp/pip-record-oyob7man/install-record.txt --single-version-externally-managed --compile Check the logs for full command output.\u001b[0m\n"
          ],
          "name": "stdout"
        }
      ]
    },
    {
      "cell_type": "markdown",
      "metadata": {
        "id": "qYGjVBO2mbm3"
      },
      "source": [
        "### Importing the data to form training and test sets "
      ]
    },
    {
      "cell_type": "code",
      "metadata": {
        "colab": {
          "base_uri": "https://localhost:8080/",
          "height": 351
        },
        "id": "OOLnYgoPmbm3",
        "outputId": "b6f03d48-1e2b-4501-ed95-97d4d852cfed"
      },
      "source": [
        "# Reads in the data from MNIST database\n",
        "data = read() \n",
        "\n",
        "# Retrieve the entries corresponding to the digit 7\n",
        "samples = []\n",
        "for sample in data:\n",
        "    if sample[0] == 7:\n",
        "        samples.append(sample[1].astype(float))\n",
        "        \n",
        "# Stack images in a tensor of size 28x28xnb_images\n",
        "samples = np.stack(samples,axis=2)\n",
        "\n",
        "# Defines training and testing set\n",
        "train_set = samples[:,:,:3133]\n",
        "test_set = samples[:,:,3133:]\n",
        "print(train_set.shape, test_set.shape)\n",
        "\n",
        "# Plot some images \n",
        "fig, axes = plt.subplots(1,3,figsize=(15,100))\n",
        "plt.rcParams['image.cmap'] = 'gray'\n",
        "axes[0].imshow(train_set[:,:,1])\n",
        "axes[1].imshow(train_set[:,:,100])\n",
        "axes[2].imshow(train_set[:,:,1000])\n",
        "axes[0].axis('off')\n",
        "axes[1].axis('off')\n",
        "axes[2].axis('off')\n",
        "\n",
        "# Transform the data for processing, i.e. unroll the 28x28 images in vectors of size (28*28)x1\n",
        "X = np.reshape(train_set,(28*28,3133)).T\n",
        "Y = np.reshape(test_set,(28*28,3132)).T\n"
      ],
      "execution_count": 3,
      "outputs": [
        {
          "output_type": "error",
          "ename": "FileNotFoundError",
          "evalue": "ignored",
          "traceback": [
            "\u001b[0;31m---------------------------------------------------------------------------\u001b[0m",
            "\u001b[0;31mFileNotFoundError\u001b[0m                         Traceback (most recent call last)",
            "\u001b[0;32m<ipython-input-3-b0f0deec4b6a>\u001b[0m in \u001b[0;36m<module>\u001b[0;34m()\u001b[0m\n\u001b[1;32m      4\u001b[0m \u001b[0;31m# Retrieve the entries corresponding to the digit 7\u001b[0m\u001b[0;34m\u001b[0m\u001b[0;34m\u001b[0m\u001b[0;34m\u001b[0m\u001b[0m\n\u001b[1;32m      5\u001b[0m \u001b[0msamples\u001b[0m \u001b[0;34m=\u001b[0m \u001b[0;34m[\u001b[0m\u001b[0;34m]\u001b[0m\u001b[0;34m\u001b[0m\u001b[0;34m\u001b[0m\u001b[0m\n\u001b[0;32m----> 6\u001b[0;31m \u001b[0;32mfor\u001b[0m \u001b[0msample\u001b[0m \u001b[0;32min\u001b[0m \u001b[0mdata\u001b[0m\u001b[0;34m:\u001b[0m\u001b[0;34m\u001b[0m\u001b[0;34m\u001b[0m\u001b[0m\n\u001b[0m\u001b[1;32m      7\u001b[0m     \u001b[0;32mif\u001b[0m \u001b[0msample\u001b[0m\u001b[0;34m[\u001b[0m\u001b[0;36m0\u001b[0m\u001b[0;34m]\u001b[0m \u001b[0;34m==\u001b[0m \u001b[0;36m7\u001b[0m\u001b[0;34m:\u001b[0m\u001b[0;34m\u001b[0m\u001b[0;34m\u001b[0m\u001b[0m\n\u001b[1;32m      8\u001b[0m         \u001b[0msamples\u001b[0m\u001b[0;34m.\u001b[0m\u001b[0mappend\u001b[0m\u001b[0;34m(\u001b[0m\u001b[0msample\u001b[0m\u001b[0;34m[\u001b[0m\u001b[0;36m1\u001b[0m\u001b[0;34m]\u001b[0m\u001b[0;34m.\u001b[0m\u001b[0mastype\u001b[0m\u001b[0;34m(\u001b[0m\u001b[0mfloat\u001b[0m\u001b[0;34m)\u001b[0m\u001b[0;34m)\u001b[0m\u001b[0;34m\u001b[0m\u001b[0;34m\u001b[0m\u001b[0m\n",
            "\u001b[0;32m/content/mnist.py\u001b[0m in \u001b[0;36mread\u001b[0;34m(dataset, path)\u001b[0m\n\u001b[1;32m     25\u001b[0m \u001b[0;34m\u001b[0m\u001b[0m\n\u001b[1;32m     26\u001b[0m     \u001b[0;31m# Load everything in some numpy arrays\u001b[0m\u001b[0;34m\u001b[0m\u001b[0;34m\u001b[0m\u001b[0;34m\u001b[0m\u001b[0m\n\u001b[0;32m---> 27\u001b[0;31m     \u001b[0;32mwith\u001b[0m \u001b[0mopen\u001b[0m\u001b[0;34m(\u001b[0m\u001b[0mfname_lbl\u001b[0m\u001b[0;34m,\u001b[0m \u001b[0;34m'rb'\u001b[0m\u001b[0;34m)\u001b[0m \u001b[0;32mas\u001b[0m \u001b[0mflbl\u001b[0m\u001b[0;34m:\u001b[0m\u001b[0;34m\u001b[0m\u001b[0;34m\u001b[0m\u001b[0m\n\u001b[0m\u001b[1;32m     28\u001b[0m         \u001b[0mmagic\u001b[0m\u001b[0;34m,\u001b[0m \u001b[0mnum\u001b[0m \u001b[0;34m=\u001b[0m \u001b[0mstruct\u001b[0m\u001b[0;34m.\u001b[0m\u001b[0munpack\u001b[0m\u001b[0;34m(\u001b[0m\u001b[0;34m\">II\"\u001b[0m\u001b[0;34m,\u001b[0m \u001b[0mflbl\u001b[0m\u001b[0;34m.\u001b[0m\u001b[0mread\u001b[0m\u001b[0;34m(\u001b[0m\u001b[0;36m8\u001b[0m\u001b[0;34m)\u001b[0m\u001b[0;34m)\u001b[0m\u001b[0;34m\u001b[0m\u001b[0;34m\u001b[0m\u001b[0m\n\u001b[1;32m     29\u001b[0m         \u001b[0mlbl\u001b[0m \u001b[0;34m=\u001b[0m \u001b[0mnp\u001b[0m\u001b[0;34m.\u001b[0m\u001b[0mfromfile\u001b[0m\u001b[0;34m(\u001b[0m\u001b[0mflbl\u001b[0m\u001b[0;34m,\u001b[0m \u001b[0mdtype\u001b[0m\u001b[0;34m=\u001b[0m\u001b[0mnp\u001b[0m\u001b[0;34m.\u001b[0m\u001b[0mint8\u001b[0m\u001b[0;34m)\u001b[0m\u001b[0;34m\u001b[0m\u001b[0;34m\u001b[0m\u001b[0m\n",
            "\u001b[0;31mFileNotFoundError\u001b[0m: [Errno 2] No such file or directory: './train-labels-idx1-ubyte'"
          ]
        }
      ]
    },
    {
      "cell_type": "markdown",
      "metadata": {
        "id": "X6bhcmdNmbm4"
      },
      "source": [
        "<a id='pca'></a>\n",
        "## Principal Component Analysis\n",
        "\n",
        "The data has now been initialised, everything is set to start on coding. \n",
        "\n",
        "<a id='q1'></a>\n",
        "<b>Question 1.</b> Complete the functions `pca(.)` and `pca_project(.)`. For information, the function `np.linalg.eigh` compute the eigenvalues and eigenvectors of a symmetric matrix. It returns two arrays, the first one contains the eigenvalues in ascending order and the second one the corresponding eigenvector."
      ]
    },
    {
      "cell_type": "code",
      "metadata": {
        "id": "3JsKUpqZmbm4"
      },
      "source": [
        "def pca(X,n_components = None):\n",
        "    \n",
        "    # If no number of component is specified, the function keeps them all\n",
        "    if n_components is None:\n",
        "        n_components = X.shape[1]\n",
        "        \n",
        "    ###################### TO DO QUESTION 1 ################################\n",
        "\n",
        "    # Compute mean digit and shift the data\n",
        "    X_mean = np.mean(X,axis=0).reshape(1,-1)\n",
        "    X_shifted = X - X_mean\n",
        "    # Compute covariance of the data\n",
        "    \n",
        "    covX =  np.cov(X_shifted.T)\n",
        "\n",
        "    # Compute the eigenvector of the covariance matrix\n",
        "    eigenvalues, eigenvectors = np.linalg.eigh(covX)\n",
        "    # Retrieve the eigenvectors to return\n",
        "    \n",
        "    components = eigenvectors[:,-n_components:]\n",
        "    ###################### TO DO QUESTION 1 ################################\n",
        "    \n",
        "    # Returns the transformed data, the principal components, and the mean digit\n",
        "    return X_mean , components\n",
        "\n",
        "def pca_project(Y,X_mean,components):\n",
        "    # Compute the projection of the input data on the selected components\n",
        "    projection = (Y - X_mean) @ components\n",
        "    ###################### TO DO QUESTION 1 ################################\n",
        "    \n",
        "    # Compute the expansion coefficients of the data\n",
        "    reconstruction = projection@components.T\n",
        "    ###################### TO DO QUESTION 1 ################################\n",
        "    \n",
        "    return X_mean + reconstruction \n",
        "    "
      ],
      "execution_count": null,
      "outputs": []
    },
    {
      "cell_type": "code",
      "metadata": {
        "id": "lEradMOFmbm4",
        "outputId": "aca757c0-8607-473c-c26f-aebe18b44ae6"
      },
      "source": [
        "# This tests if your functions are correct, you should get the same output as we do\n",
        "X_mean, components = pca(X,n_components=None)\n",
        "\n",
        "# Reshapes the reconstructed data to have 28x28 pictures\n",
        "comp_ = np.reshape(components,(28,28,784))\n",
        "\n",
        "fig, axes = plt.subplots(1,3,figsize=(15,100))\n",
        "plt.rcParams['image.cmap'] = 'gray'\n",
        "axes[0].imshow(comp_[:,:,-1])\n",
        "axes[1].imshow(comp_[:,:,-2])\n",
        "axes[2].imshow(comp_[:,:,-3])\n",
        "axes[0].axis('off')\n",
        "axes[1].axis('off')\n",
        "axes[2].axis('off')\n",
        "\n",
        "X_projected = pca_project(X,X_mean,components)\n",
        "\n",
        "X_ = np.reshape(X_projected.T,(28,28,3133))\n",
        "fig, axes = plt.subplots(1,3,figsize=(15,100))\n",
        "plt.rcParams['image.cmap'] = 'gray'\n",
        "axes[0].imshow(train_set[:,:,0])\n",
        "axes[1].imshow(X_[:,:,0])\n",
        "axes[2].imshow(train_set[:,:,0]-X_[:,:,0]>10**(-12))\n",
        "axes[0].axis('off')\n",
        "axes[1].axis('off')\n",
        "axes[2].axis('off')"
      ],
      "execution_count": null,
      "outputs": [
        {
          "output_type": "execute_result",
          "data": {
            "text/plain": [
              "(-0.5, 27.5, 27.5, -0.5)"
            ]
          },
          "metadata": {
            "tags": []
          },
          "execution_count": 116
        },
        {
          "output_type": "display_data",
          "data": {
            "image/png": "[encoded data removed]",
            "text/plain": [
              "<Figure size 1080x7200 with 3 Axes>"
            ]
          },
          "metadata": {
            "tags": [],
            "needs_background": "light"
          }
        },
        {
          "output_type": "display_data",
          "data": {
            "image/png": "[encoded data removed]",
            "text/plain": [
              "<Figure size 1080x7200 with 3 Axes>"
            ]
          },
          "metadata": {
            "tags": [],
            "needs_background": "light"
          }
        }
      ]
    },
    {
      "cell_type": "markdown",
      "metadata": {
        "id": "ImMr1whjmbm4"
      },
      "source": [
        "#### Testing PCA \n",
        "\n",
        "You now have a (hopefully) working implementation of the Principal Component Analysis algorithm. Use it to fit your training set and observe the results on the testing set.\n",
        "\n",
        "<a id='q2'></a>\n",
        "<b>Question 2.</b> Use the function `pca(.)` to learn a decomposition on the <b>training set</b>. Then compute the reconstruction error $E$ on the <b>testing set</b>, for a number of components varying from 1 to 100, as defined by: \n",
        "$$\n",
        "E(D) = \\frac{1}{N}\\sum_{n=1}^N \\|I_n - (\\mathbf{\\mu}+\\sum_{k=1}^D \\omega_k^n\\mathbf{u}_k) \\|_2,\n",
        "$$\n",
        "with $I_n$ denoting the $n$-th image of the testing set, $\\mathbf{\\mu}$ is the mean digit learnt from the training set, $\\mathbf{u}_k$ is the eigenvector with the $k$-th largest eigenvalue, and $\\omega_k^n$ is the expansion coefficient of the $n$-th image on the $k$-th eigenvector. Finally, $\\|.\\|_2$ denotes the $L_2$ norm. Numpy has the method `np.linalg.norm(.)` that computes norms (check out the documentation for more infos).\n",
        "<br/>\n"
      ]
    },
    {
      "cell_type": "code",
      "metadata": {
        "id": "BmzKWOsWmbm4"
      },
      "source": [
        "max_n_components = 100 # Max number of components to keep\n",
        "\n",
        "xrange = range(1,max_n_components+1)\n",
        "error = []\n",
        "\n",
        "##################### TO DO QUESTION 2 ##############################\n",
        "\n",
        "# Compute the Error for n_components between 1 and 100\n",
        "\n",
        "for i in xrange:\n",
        "    X_mean, components = pca(X, n_components = i)\n",
        "    e = np.sum(np.linalg.norm(Y - pca_project(Y,X_mean,components)))\n",
        "    error.append(e)\n",
        "error = np.array(error)/Y.shape[0]\n",
        "\n",
        "##################### TO DO QUESTION 2 ##############################"
      ],
      "execution_count": null,
      "outputs": []
    },
    {
      "cell_type": "markdown",
      "metadata": {
        "id": "xqv-Y1Ukmbm4"
      },
      "source": [
        "<a id='q3'></a>\n",
        "<b>Question 3.</b> Plot the evolution of the error $E$ for $D = 1,\\ldots,100$."
      ]
    },
    {
      "cell_type": "code",
      "metadata": {
        "scrolled": false,
        "id": "c5vCoBJ6mbm4",
        "outputId": "b5970099-66f1-4444-9acd-f813a4e2ab4f"
      },
      "source": [
        "##################### TO DO QUESTION 3 ##############################\n",
        "\n",
        "# Plot the error with respect to n_components\n",
        "plt.style.use('default')\n",
        "plt.plot(error)\n",
        "plt.title('Error through components')\n",
        "\n",
        "##################### TO DO QUESTION 3 ##############################"
      ],
      "execution_count": null,
      "outputs": [
        {
          "output_type": "execute_result",
          "data": {
            "text/plain": [
              "Text(0.5, 1.0, 'Error through components')"
            ]
          },
          "metadata": {
            "tags": []
          },
          "execution_count": 139
        },
        {
          "output_type": "display_data",
          "data": {
            "image/png": "[encoded data removed]",
            "text/plain": [
              "<Figure size 640x480 with 1 Axes>"
            ]
          },
          "metadata": {
            "tags": []
          }
        }
      ]
    },
    {
      "cell_type": "markdown",
      "metadata": {
        "id": "N9zKTebembm4"
      },
      "source": [
        "<a id='kmeans'></a>\n",
        "# K-Means\n",
        "\n",
        "In this section, you will complete the implementation of the k-means algorithm.\n",
        "\n",
        "<a id='q4'></a>\n",
        "<b>Question 4.</b>  Complete the function `distortion(.)` which computes the distortion cost $F$ for a given clustering of the data:\n",
        "$$\n",
        "F(m,c) = \\frac{1}{N}\\sum_{i=1}^N \\|x^i - c^{m(i)}\\|_2,\n",
        "$$\n",
        "where $N$ corresponds to the total number of images in the set and $m(i)$ denotes which cluster is assigned to the image $x^i$.<br/>"
      ]
    },
    {
      "cell_type": "code",
      "metadata": {
        "id": "OKbAuMnambm4"
      },
      "source": [
        "def distortion(X, cluster_assignment, centroids):\n",
        "    \n",
        "    n_cluster, n_variables = centroids.shape\n",
        "    distortion = 0\n",
        "    \n",
        "    ##################### TO DO QUESTION 4 ##############################\n",
        "    \n",
        "    # Compute distortion\n",
        "        \n",
        "    ##################### TO DO QUESTION 4 ##############################\n",
        "        \n",
        "    return distortion/X.shape[0]"
      ],
      "execution_count": null,
      "outputs": []
    },
    {
      "cell_type": "markdown",
      "metadata": {
        "id": "lVkCacAHmbm4"
      },
      "source": [
        "<a id='q5'></a>\n",
        "<b>Question 5.</b> Complete the functions `K-means` and `assign_cluster(.)`, make sure that it computes the distortion after each update. Then use the function on your training set, the number of cluster $k = 2$. Check that the distortion decreases as the algorithm progresses.<br/>"
      ]
    },
    {
      "cell_type": "code",
      "metadata": {
        "id": "sK5wNdxSmbm4"
      },
      "source": [
        "def assign_cluster(centroids, X):\n",
        "    \n",
        "    n_observations, _ = X.shape\n",
        "    # Initialise cluster_assignment to -1\n",
        "    cluster_assignment = -1*np.ones((n_observations,))\n",
        "    \n",
        "    for i in range(n_observations):\n",
        "        ##################### TO DO QUESTION 5 ##############################\n",
        "        \n",
        "        \n",
        "        ##################### TO DO QUESTION 5 ##############################\n",
        "        \n",
        "    return cluster_assignment\n",
        "\n",
        "def kmeans(X, n_clusters = 2, max_iter =1000, tol = 10**-10, verbose = False):\n",
        "    \n",
        "    n_observations, n_variables = X.shape\n",
        "    \n",
        "    # Randomly initialise the centroids using the multivariate gaussian computed from the data\n",
        "    X_mean = np.mean(X,axis=0)\n",
        "    X_cov = np.cov(X,rowvar=False)\n",
        "    centroids = np.random.multivariate_normal(X_mean,X_cov,(n_clusters,))\n",
        "    \n",
        "    n_iter = 0\n",
        "    distortion_scores = []\n",
        "    # Loop as long as the number of iterations is below max_iter and if the converging criteria has not be met\n",
        "    while (n_iter < max_iter):\n",
        "        n_iter += 1\n",
        "        # Step 1: assign points to nearest center\n",
        "        cluster_assignment = assign_cluster(centroids,X)\n",
        "        \n",
        "        # Step 2: compute distortion\n",
        "        dist = distortion(X, cluster_assignment, centroids)\n",
        "        distortion_scores.append(dist)\n",
        "        if verbose:\n",
        "            print(\"Iteration %s, distortion = %s\" % (n_iter,dist))\n",
        "              \n",
        "        # Step 3: compute new centroids from the clusters\n",
        "        new_centroids = np.zeros(centroids.shape)\n",
        "        for j in range(n_clusters):\n",
        "            \n",
        "            ##################### TO DO QUESTION 5 ##############################\n",
        "            \n",
        "        \n",
        "            ##################### TO DO QUESTION 5 ##############################\n",
        "            \n",
        "        # Step 4: break the loop if difference between previous centroids and new ones is small enough\n",
        "        if np.linalg.norm(new_centroids-centroids)<tol:\n",
        "            if verbose:\n",
        "                print(\"Terminates with difference: %s\\n\" % np.linalg.norm(new_centroids-centroids))\n",
        "            break\n",
        "        else:\n",
        "            centroids = new_centroids\n",
        "    \n",
        "    return cluster_assignment, centroids, distortion_scores"
      ],
      "execution_count": null,
      "outputs": []
    },
    {
      "cell_type": "code",
      "metadata": {
        "id": "ifnIs6qcmbm4",
        "outputId": "e381a149-3ebe-4260-bb3d-de990e30f29c"
      },
      "source": [
        "# If your implementation is correct you should get the same results as us here\n",
        "np.random.seed(11) # DO NOT CHANGE THIS LINE, it ensures your random initialisation is identical to ours\n",
        "\n",
        "cluster_assignment, centroids, distortion_scores = kmeans(X,verbose=True)"
      ],
      "execution_count": null,
      "outputs": [
        {
          "output_type": "stream",
          "text": [
            "Iteration 1, distortion = 2090.7481389717063\n",
            "Iteration 2, distortion = 1452.3091110197047\n",
            "Iteration 3, distortion = 1447.6490543130699\n",
            "Iteration 4, distortion = 1446.005894465188\n",
            "Iteration 5, distortion = 1444.893372279777\n",
            "Iteration 6, distortion = 1444.208120556854\n",
            "Iteration 7, distortion = 1443.8045936541398\n",
            "Iteration 8, distortion = 1443.6018478205244\n",
            "Iteration 9, distortion = 1443.5087750077328\n",
            "Iteration 10, distortion = 1443.434478685969\n",
            "Iteration 11, distortion = 1443.3888422890182\n",
            "Iteration 12, distortion = 1443.365125904968\n",
            "Iteration 13, distortion = 1443.3344999721164\n",
            "Iteration 14, distortion = 1443.284897951173\n",
            "Iteration 15, distortion = 1443.267950454885\n",
            "Iteration 16, distortion = 1443.2627485947248\n",
            "Terminates with difference: 0.0\n",
            "\n"
          ],
          "name": "stdout"
        }
      ]
    },
    {
      "cell_type": "code",
      "metadata": {
        "id": "7wJ87bAxmbm4"
      },
      "source": [
        "# Helper function to plot multiple images (non-graded)\n",
        "def plot_kmeans(centroids, n = 4):\n",
        "    \n",
        "    k = centroids.shape[0]\n",
        "    m = int(np.ceil(k/n))\n",
        "    fig, axes = plt.subplots(m,n,figsize=(n*5,m*5))\n",
        "    plt.rcParams['image.cmap'] = 'gray'\n",
        "    for c in range(k):\n",
        "        if m == 1:\n",
        "            axes[c].imshow(np.reshape(centroids[c,:],(28,28)))\n",
        "            axes[c].axis('off')\n",
        "        else:\n",
        "            i, j = int(c/n), int(c - i*n)\n",
        "            axes[i,j].imshow(np.reshape(centroids[c,:],(28,28)))\n",
        "            axes[i,j].axis('off')\n",
        "            \n",
        "    for c in range(k,m*n):\n",
        "        if m == 1:\n",
        "            axes[c].remove()\n",
        "            axes[c].axis('off')\n",
        "        else:\n",
        "            i, j = int(c/n), int(c - i*n)\n",
        "            axes[i,j].remove()\n",
        "            axes[i,j].axis('off')\n",
        "    "
      ],
      "execution_count": null,
      "outputs": []
    },
    {
      "cell_type": "markdown",
      "metadata": {
        "id": "C2XFtN_Zmbm4"
      },
      "source": [
        "#### Testing K-means\n",
        "\n",
        "<a id='q6'></a>\n",
        "<b>Question 6.</b> In order to mitigate the local minima problem of K-Means, repeat the algorithm 10 times, and keep the solution that yields the smallest distortion at the end. Show the resulting digit clusters (centroids of your clusters) using the `plot_kmeans(.)` function given.<br/>\n"
      ]
    },
    {
      "cell_type": "code",
      "metadata": {
        "id": "08mf02Bmmbm4",
        "outputId": "bdb9e530-f9e8-4dac-b3f4-b3baf225b089"
      },
      "source": [
        "def select_clustering(X,k=2,repeats=10):\n",
        "    # Returns clustering with lowest distortion across \"repeats\" number of runs\n",
        "    clustering = None\n",
        "    print(\"Run k=%s:\" % k,end=' ')\n",
        "    \n",
        "    \n",
        "    for i in range(repeats):\n",
        "        print(\"%s/%s..\" % (i+1,repeats), end=' ')\n",
        "        np.random.seed(i) # Do not change this line, it insures you get the same random initialisation as us\n",
        "        \n",
        "        ##################### TO DO QUESTION 6 ##############################\n",
        "        \n",
        "        # Compute clusters and retrieve the one with lowest distortion\n",
        "            \n",
        "        ##################### TO DO QUESTION 6 ##############################\n",
        "            \n",
        "    print(\"\\n\",end='')\n",
        "    return clustering\n",
        "\n",
        "\n",
        "clustering = select_clustering(X)\n",
        "\n",
        "##################### TO DO QUESTION 6 ##############################\n",
        "\n",
        "# Plot the centres of the clusters\n",
        "\n",
        "##################### TO DO QUESTION 6 ##############################\n"
      ],
      "execution_count": null,
      "outputs": [
        {
          "output_type": "stream",
          "text": [
            "Run k=2: 1/10.. 2/10.. 3/10.. 4/10.. 5/10.. 6/10.. 7/10.. 8/10.. 9/10.. 10/10.. \n"
          ],
          "name": "stdout"
        },
        {
          "output_type": "display_data",
          "data": {
            "image/png": "[encoded data removed]",
            "text/plain": [
              "<Figure size 1440x360 with 2 Axes>"
            ]
          },
          "metadata": {
            "tags": []
          }
        }
      ]
    },
    {
      "cell_type": "markdown",
      "metadata": {
        "id": "_78NV3HGmbm4"
      },
      "source": [
        "<a id='q7'></a>\n",
        "<b>Question 7.</b> Repeat the procedure of Question 6 for values of $k = 3,4,5,10,50,100$ (Allow for ~10min). Plot the evolution of the distortion cost of the training and testing data. Remember to use the functions `select_clustering(.)`, `assign_cluster(.)`, and `distortion(.)` defined earlier."
      ]
    },
    {
      "cell_type": "code",
      "metadata": {
        "id": "ibq4T0Ivmbm4",
        "outputId": "265a9881-6995-4bea-fb88-7fd896b148a1"
      },
      "source": [
        "train_distortions = []\n",
        "test_distortions = []\n",
        "\n",
        "ks = [2,3,4,5,10,50,100]\n",
        "\n",
        "\n",
        "##################### TO DO QUESTION 7 ##############################\n",
        "\n",
        "\n",
        "##################### TO DO QUESTION 7 ##############################"
      ],
      "execution_count": null,
      "outputs": [
        {
          "output_type": "stream",
          "text": [
            "Run k=2: 1/10.. 2/10.. 3/10.. 4/10.. 5/10.. 6/10.. 7/10.. 8/10.. 9/10.. 10/10.. \n",
            "Run k=3: 1/10.. 2/10.. 3/10.. 4/10.. 5/10.. 6/10.. 7/10.. 8/10.. 9/10.. 10/10.. \n",
            "Run k=4: 1/10.. 2/10.. 3/10.. 4/10.. 5/10.. 6/10.. 7/10.. 8/10.. 9/10.. 10/10.. \n",
            "Run k=5: 1/10.. 2/10.. 3/10.. 4/10.. 5/10.. 6/10.. 7/10.. 8/10.. 9/10.. 10/10.. \n",
            "Run k=10: 1/10.. 2/10.. 3/10.. 4/10.. 5/10.. 6/10.. 7/10.. 8/10.. 9/10.. 10/10.. \n",
            "Run k=50: 1/10.. 2/10.. 3/10.. 4/10.. 5/10.. 6/10.. 7/10.. 8/10.. 9/10.. 10/10.. \n",
            "Run k=100: 1/10.. 2/10.. 3/10.. 4/10.. 5/10.. 6/10.. 7/10.. 8/10.. 9/10.. 10/10.. \n"
          ],
          "name": "stdout"
        }
      ]
    },
    {
      "cell_type": "code",
      "metadata": {
        "id": "dpl9kGiXmbm5",
        "outputId": "44c60957-2a8b-454a-b183-4a94ccd7592e"
      },
      "source": [
        "# Plotting the evolution of distortion for train and test set\n",
        "fig = plt.figure()\n",
        "\n",
        "##################### TO DO QUESTION 7 ##############################\n",
        "\n",
        "\n",
        "##################### TO DO QUESTION 7 ##############################\n",
        "\n",
        "plt.xlabel(\"Number of clusters k\")\n",
        "plt.ylabel(\"Distortion\")\n",
        "plt.legend(['Train', 'Test'])"
      ],
      "execution_count": null,
      "outputs": [
        {
          "output_type": "execute_result",
          "data": {
            "text/plain": [
              "<matplotlib.legend.Legend at 0x10cd25f98>"
            ]
          },
          "metadata": {
            "tags": []
          },
          "execution_count": 13
        },
        {
          "output_type": "display_data",
          "data": {
            "image/png": "[encoded data removed]",
            "text/plain": [
              "<Figure size 432x288 with 1 Axes>"
            ]
          },
          "metadata": {
            "tags": []
          }
        }
      ]
    },
    {
      "cell_type": "markdown",
      "metadata": {
        "id": "dFGMS7pVmbm5"
      },
      "source": [
        "<a id='comparison'></a>\n",
        "# Comparison\n",
        "\n",
        "<a id='q8'></a>\n",
        "<b>Question 8.</b> Compare the results from PCA to the results of K-means on the <b>test set</b> by plotting on the same graph the reconstruction error $E(D)$ for $D = 3,4,5,10,50,100$ and the distortion cost you just computed (remark that the two measures are simply L$_2$ norms thus the comparison is valid). To be clear, the first one measure the error in the reconstructed image from the projection on the components of PCA, the second measure the error between each image and the centroid of the cluster it is assigned to. Both correpond to the error made when approximating the original image to either its projection or its cluster's centroid."
      ]
    },
    {
      "cell_type": "code",
      "metadata": {
        "id": "3j37vjvPmbm5"
      },
      "source": [
        "# No need to recompute kmeans here, just compute PCA for the corresponding values of k (similar to question 2/3)\n",
        "\n",
        "n_components = [2,3,4,5,10,50,100] # Max number of components to keep\n",
        "\n",
        "error = []\n",
        "\n",
        "##################### TO DO QUESTION 8 ##############################\n",
        "\n",
        "    \n",
        "##################### TO DO QUESTION 8 ##############################"
      ],
      "execution_count": null,
      "outputs": []
    },
    {
      "cell_type": "code",
      "metadata": {
        "id": "vM9QwUoTmbm5",
        "outputId": "c3aaeaf6-402f-4cc8-a91a-b68d82a1680d"
      },
      "source": [
        "# Plotting the comparison\n",
        "\n",
        "fig = plt.figure()\n",
        "\n",
        "##################### TO DO QUESTION 8 ##############################\n",
        "\n",
        "\n",
        "##################### TO DO QUESTION 8 ##############################\n",
        "\n",
        "plt.xlabel(\"Number of clusters/components (k/D)\")\n",
        "plt.ylabel(\"Approximation errors\")\n",
        "\n",
        "plt.legend(['PCA', 'K-means'])"
      ],
      "execution_count": null,
      "outputs": [
        {
          "output_type": "execute_result",
          "data": {
            "text/plain": [
              "<matplotlib.legend.Legend at 0x121bf7c18>"
            ]
          },
          "metadata": {
            "tags": []
          },
          "execution_count": 15
        },
        {
          "output_type": "display_data",
          "data": {
            "image/png": "[encoded data removed]",
            "text/plain": [
              "<Figure size 432x288 with 1 Axes>"
            ]
          },
          "metadata": {
            "tags": []
          }
        }
      ]
    }
  ]
}